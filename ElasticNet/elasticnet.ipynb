{
 "cells": [
  {
   "cell_type": "markdown",
   "id": "9597e875",
   "metadata": {},
   "source": [
    "# ElasticNet Regression ( combination of L1 & L2 Regularization)"
   ]
  },
  {
   "cell_type": "code",
   "execution_count": 1,
   "id": "742507a9",
   "metadata": {},
   "outputs": [],
   "source": [
    "import pandas as pd"
   ]
  },
  {
   "cell_type": "code",
   "execution_count": 2,
   "id": "1218c12a",
   "metadata": {},
   "outputs": [],
   "source": [
    "cars= pd.read_csv(\"auto_mpg_preprocessed.csv\")"
   ]
  },
  {
   "cell_type": "code",
   "execution_count": 3,
   "id": "0c5c6fb1",
   "metadata": {},
   "outputs": [
    {
     "data": {
      "text/html": [
       "<div>\n",
       "<style scoped>\n",
       "    .dataframe tbody tr th:only-of-type {\n",
       "        vertical-align: middle;\n",
       "    }\n",
       "\n",
       "    .dataframe tbody tr th {\n",
       "        vertical-align: top;\n",
       "    }\n",
       "\n",
       "    .dataframe thead th {\n",
       "        text-align: right;\n",
       "    }\n",
       "</style>\n",
       "<table border=\"1\" class=\"dataframe\">\n",
       "  <thead>\n",
       "    <tr style=\"text-align: right;\">\n",
       "      <th></th>\n",
       "      <th>symboling</th>\n",
       "      <th>wheel_base</th>\n",
       "      <th>length</th>\n",
       "      <th>width</th>\n",
       "      <th>height</th>\n",
       "      <th>curb_weight</th>\n",
       "      <th>num_of_cylinders</th>\n",
       "      <th>engine_size</th>\n",
       "      <th>bore</th>\n",
       "      <th>stroke</th>\n",
       "      <th>compression_ratio</th>\n",
       "      <th>horsepower</th>\n",
       "      <th>peak_rpm</th>\n",
       "      <th>city_mpg</th>\n",
       "      <th>highway_mpg</th>\n",
       "      <th>price</th>\n",
       "    </tr>\n",
       "  </thead>\n",
       "  <tbody>\n",
       "    <tr>\n",
       "      <th>0</th>\n",
       "      <td>3</td>\n",
       "      <td>88.6</td>\n",
       "      <td>168.8</td>\n",
       "      <td>64.1</td>\n",
       "      <td>48.8</td>\n",
       "      <td>2548</td>\n",
       "      <td>4</td>\n",
       "      <td>130</td>\n",
       "      <td>3.47</td>\n",
       "      <td>2.68</td>\n",
       "      <td>9.0</td>\n",
       "      <td>111.0</td>\n",
       "      <td>5000.0</td>\n",
       "      <td>21</td>\n",
       "      <td>27</td>\n",
       "      <td>13495.0</td>\n",
       "    </tr>\n",
       "    <tr>\n",
       "      <th>1</th>\n",
       "      <td>3</td>\n",
       "      <td>88.6</td>\n",
       "      <td>168.8</td>\n",
       "      <td>64.1</td>\n",
       "      <td>48.8</td>\n",
       "      <td>2548</td>\n",
       "      <td>4</td>\n",
       "      <td>130</td>\n",
       "      <td>3.47</td>\n",
       "      <td>2.68</td>\n",
       "      <td>9.0</td>\n",
       "      <td>111.0</td>\n",
       "      <td>5000.0</td>\n",
       "      <td>21</td>\n",
       "      <td>27</td>\n",
       "      <td>16500.0</td>\n",
       "    </tr>\n",
       "  </tbody>\n",
       "</table>\n",
       "</div>"
      ],
      "text/plain": [
       "   symboling  wheel_base  length  width  height  curb_weight  \\\n",
       "0          3        88.6   168.8   64.1    48.8         2548   \n",
       "1          3        88.6   168.8   64.1    48.8         2548   \n",
       "\n",
       "   num_of_cylinders  engine_size  bore  stroke  compression_ratio  horsepower  \\\n",
       "0                 4          130  3.47    2.68                9.0       111.0   \n",
       "1                 4          130  3.47    2.68                9.0       111.0   \n",
       "\n",
       "   peak_rpm  city_mpg  highway_mpg    price  \n",
       "0    5000.0        21           27  13495.0  \n",
       "1    5000.0        21           27  16500.0  "
      ]
     },
     "execution_count": 3,
     "metadata": {},
     "output_type": "execute_result"
    }
   ],
   "source": [
    "cars.head(2)"
   ]
  },
  {
   "cell_type": "code",
   "execution_count": 4,
   "id": "852f9887",
   "metadata": {},
   "outputs": [],
   "source": [
    "# lets divide the target and independent features\n",
    "X= cars.drop(\"price\", axis=1)\n",
    "y= cars[\"price\"]"
   ]
  },
  {
   "cell_type": "code",
   "execution_count": 5,
   "id": "84657e35",
   "metadata": {},
   "outputs": [],
   "source": [
    "# lets split the data in to train and test \n",
    "from sklearn.model_selection import train_test_split"
   ]
  },
  {
   "cell_type": "code",
   "execution_count": 6,
   "id": "9aafafe0",
   "metadata": {},
   "outputs": [],
   "source": [
    "X_train, X_test, y_train, y_test= train_test_split(X, y, test_size=0.25, random_state=42)"
   ]
  },
  {
   "cell_type": "code",
   "execution_count": 7,
   "id": "3eb11f11",
   "metadata": {},
   "outputs": [
    {
     "data": {
      "text/plain": [
       "(153, 153)"
      ]
     },
     "execution_count": 7,
     "metadata": {},
     "output_type": "execute_result"
    }
   ],
   "source": [
    "len(X_train), len(y_train)"
   ]
  },
  {
   "cell_type": "code",
   "execution_count": 8,
   "id": "9e839e76",
   "metadata": {},
   "outputs": [
    {
     "data": {
      "text/plain": [
       "(52, 52)"
      ]
     },
     "execution_count": 8,
     "metadata": {},
     "output_type": "execute_result"
    }
   ],
   "source": [
    "len(X_test), len(y_test)"
   ]
  },
  {
   "cell_type": "code",
   "execution_count": 9,
   "id": "d76f7da5",
   "metadata": {},
   "outputs": [],
   "source": [
    "# lets scale the features\n",
    "from sklearn.preprocessing import StandardScaler"
   ]
  },
  {
   "cell_type": "code",
   "execution_count": 10,
   "id": "c48d7cd5",
   "metadata": {},
   "outputs": [],
   "source": [
    "# initialize the scaler\n",
    "scaler= StandardScaler()"
   ]
  },
  {
   "cell_type": "code",
   "execution_count": 11,
   "id": "97d257d6",
   "metadata": {},
   "outputs": [],
   "source": [
    "X_train_scaled= scaler.fit_transform(X_train)\n",
    "X_test_scaled= scaler.transform(X_test)"
   ]
  },
  {
   "cell_type": "code",
   "execution_count": 12,
   "id": "17102faa",
   "metadata": {},
   "outputs": [],
   "source": [
    "# lets build the model (ElasticNet)\n",
    "from sklearn.linear_model import ElasticNet"
   ]
  },
  {
   "cell_type": "code",
   "execution_count": 13,
   "id": "93bbf1de",
   "metadata": {},
   "outputs": [],
   "source": [
    "# initialize the model\n",
    "alpha= 0.1\n",
    "l1_ratio= 0.5\n",
    "elastic_net= ElasticNet(alpha= alpha, l1_ratio= l1_ratio, random_state=42)"
   ]
  },
  {
   "cell_type": "code",
   "execution_count": 14,
   "id": "b5a50655",
   "metadata": {},
   "outputs": [
    {
     "data": {
      "text/plain": [
       "ElasticNet(alpha=0.1, random_state=42)"
      ]
     },
     "execution_count": 14,
     "metadata": {},
     "output_type": "execute_result"
    }
   ],
   "source": [
    "# lets fit the model on train data\n",
    "elastic_net.fit(X_train_scaled, y_train)"
   ]
  },
  {
   "cell_type": "code",
   "execution_count": 15,
   "id": "1504cd48",
   "metadata": {},
   "outputs": [],
   "source": [
    "# evaluate the model\n",
    "y_pred= elastic_net.predict(X_test_scaled)"
   ]
  },
  {
   "cell_type": "code",
   "execution_count": 16,
   "id": "bf0c130a",
   "metadata": {},
   "outputs": [
    {
     "name": "stdout",
     "output_type": "stream",
     "text": [
      "The Coefficients for symboling: 585.5360050010335\n",
      "The Coefficients for wheel_base: 561.7302335832602\n",
      "The Coefficients for length: 238.66461382564432\n",
      "The Coefficients for width: 353.95810164429804\n",
      "The Coefficients for height: 263.0071384035952\n",
      "The Coefficients for curb_weight: 659.2387729433574\n",
      "The Coefficients for num_of_cylinders: -160.58469970312942\n",
      "The Coefficients for engine_size: 4534.743167330312\n",
      "The Coefficients for bore: -346.14133717748695\n",
      "The Coefficients for stroke: -829.7147607144472\n",
      "The Coefficients for compression_ratio: 890.209900252855\n",
      "The Coefficients for horsepower: 295.48299323177963\n",
      "The Coefficients for peak_rpm: 951.6267172413216\n",
      "The Coefficients for city_mpg: -677.2316939521717\n",
      "The Coefficients for highway_mpg: -953.4151639979942\n"
     ]
    }
   ],
   "source": [
    "# lets get the paramters from the model\n",
    "for idx, col_name in enumerate(X_train.columns):\n",
    "    print(\"The Coefficients for {}: {}\".format(col_name, elastic_net.coef_[idx]))"
   ]
  },
  {
   "cell_type": "code",
   "execution_count": 17,
   "id": "b09d36db",
   "metadata": {},
   "outputs": [
    {
     "data": {
      "text/plain": [
       "13238.418300653595"
      ]
     },
     "execution_count": 17,
     "metadata": {},
     "output_type": "execute_result"
    }
   ],
   "source": [
    "# intercept\n",
    "elastic_net.intercept_"
   ]
  },
  {
   "cell_type": "code",
   "execution_count": 22,
   "id": "5f19a2eb",
   "metadata": {},
   "outputs": [],
   "source": [
    "# get metrics\n",
    "from sklearn.metrics import r2_score, mean_squared_error\n",
    "\n",
    "r2_square= r2_score(y_test, y_pred)\n",
    "mse= mean_squared_error(y_test, y_pred)"
   ]
  },
  {
   "cell_type": "code",
   "execution_count": 19,
   "id": "065ed265",
   "metadata": {},
   "outputs": [
    {
     "data": {
      "text/plain": [
       "0.7752337184359601"
      ]
     },
     "execution_count": 19,
     "metadata": {},
     "output_type": "execute_result"
    }
   ],
   "source": [
    "r2_square"
   ]
  },
  {
   "cell_type": "code",
   "execution_count": 20,
   "id": "64d732ba",
   "metadata": {},
   "outputs": [
    {
     "data": {
      "text/plain": [
       "15094056.65162712"
      ]
     },
     "execution_count": 20,
     "metadata": {},
     "output_type": "execute_result"
    }
   ],
   "source": [
    "mse"
   ]
  },
  {
   "cell_type": "code",
   "execution_count": 23,
   "id": "e4967235",
   "metadata": {},
   "outputs": [],
   "source": [
    "rmse= mean_squared_error(y_test, y_pred, squared=False)\n",
    "# import numpy as np\n",
    "# rmse= np.sqrt(mse)"
   ]
  },
  {
   "cell_type": "code",
   "execution_count": 24,
   "id": "b614267b",
   "metadata": {},
   "outputs": [
    {
     "data": {
      "text/plain": [
       "3885.107032197069"
      ]
     },
     "execution_count": 24,
     "metadata": {},
     "output_type": "execute_result"
    }
   ],
   "source": [
    "rmse"
   ]
  },
  {
   "cell_type": "code",
   "execution_count": 27,
   "id": "af61944d",
   "metadata": {},
   "outputs": [],
   "source": [
    "import matplotlib.pyplot as plt"
   ]
  },
  {
   "cell_type": "code",
   "execution_count": 28,
   "id": "039530cd",
   "metadata": {},
   "outputs": [
    {
     "data": {
      "image/png": "[encoded data removed]",
      "text/plain": [
       "<Figure size 640x480 with 1 Axes>"
      ]
     },
     "metadata": {},
     "output_type": "display_data"
    }
   ],
   "source": [
    "# visualize the model fit\n",
    "plt.scatter(y_test, y_pred, color=\"blue\", alpha=0.5, label=\"Actual & Predicted\")\n",
    "\n",
    "min_val = min(min(y_test), min(y_pred))\n",
    "max_val = max(max(y_test), max(y_pred))\n",
    "plt.plot([min_val, max_val], [min_val, max_val], color=\"red\", linestyle=\"--\", label=\"ElasticNet Reg Line\")\n",
    "\n",
    "\n",
    "plt.xlabel(\"Actual Values\")\n",
    "plt.ylabel(\"Predicted Values\")\n",
    "plt.title(\"Actual vs. Predicted Values\")\n",
    "plt.legend()\n",
    "\n",
    "# Show the plot\n",
    "plt.show()"
   ]
  },
  {
   "cell_type": "code",
   "execution_count": 30,
   "id": "40a9950c",
   "metadata": {},
   "outputs": [
    {
     "data": {
      "image/png": "[encoded data removed]",
      "text/plain": [
       "<Figure size 640x480 with 1 Axes>"
      ]
     },
     "metadata": {},
     "output_type": "display_data"
    }
   ],
   "source": [
    "# check the homoscedasticity and heteroscedasticity by plotting the Residuals\n",
    "residuals= y_test - y_pred\n",
    "\n",
    "plt.scatter(y_pred, residuals, color=\"blue\", alpha=0.5)\n",
    "plt.axhline(y=0, color=\"red\", linestyle= \"--\", linewidth=2)\n",
    "plt.xlabel(\"Predicted Values\")\n",
    "plt.ylabel(\"Residuals\")\n",
    "plt.title(\"Residual Plot for Homoscedasticity\")\n",
    "plt.show()"
   ]
  },
  {
   "cell_type": "code",
   "execution_count": null,
   "id": "2cfa9d4b",
   "metadata": {},
   "outputs": [],
   "source": []
  }
 ],
 "metadata": {
  "kernelspec": {
   "display_name": "Python 3 (ipykernel)",
   "language": "python",
   "name": "python3"
  },
  "language_info": {
   "codemirror_mode": {
    "name": "ipython",
    "version": 3
   },
   "file_extension": ".py",
   "mimetype": "text/x-python",
   "name": "python",
   "nbconvert_exporter": "python",
   "pygments_lexer": "ipython3",
   "version": "3.9.15"
  }
 },
 "nbformat": 4,
 "nbformat_minor": 5
}
