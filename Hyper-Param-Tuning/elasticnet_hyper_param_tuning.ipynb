{
 "cells": [
  {
   "cell_type": "code",
   "execution_count": 1,
   "id": "7082b1ca",
   "metadata": {},
   "outputs": [],
   "source": [
    "import pandas as pd"
   ]
  },
  {
   "cell_type": "code",
   "execution_count": 2,
   "id": "d5f6e829",
   "metadata": {},
   "outputs": [],
   "source": [
    "cars= pd.read_csv(\"auto_mpg_preprocessed.csv\")"
   ]
  },
  {
   "cell_type": "code",
   "execution_count": 3,
   "id": "e5c87f76",
   "metadata": {},
   "outputs": [
    {
     "data": {
      "text/html": [
       "<div>\n",
       "<style scoped>\n",
       "    .dataframe tbody tr th:only-of-type {\n",
       "        vertical-align: middle;\n",
       "    }\n",
       "\n",
       "    .dataframe tbody tr th {\n",
       "        vertical-align: top;\n",
       "    }\n",
       "\n",
       "    .dataframe thead th {\n",
       "        text-align: right;\n",
       "    }\n",
       "</style>\n",
       "<table border=\"1\" class=\"dataframe\">\n",
       "  <thead>\n",
       "    <tr style=\"text-align: right;\">\n",
       "      <th></th>\n",
       "      <th>symboling</th>\n",
       "      <th>wheel_base</th>\n",
       "      <th>length</th>\n",
       "      <th>width</th>\n",
       "      <th>height</th>\n",
       "      <th>curb_weight</th>\n",
       "      <th>num_of_cylinders</th>\n",
       "      <th>engine_size</th>\n",
       "      <th>bore</th>\n",
       "      <th>stroke</th>\n",
       "      <th>compression_ratio</th>\n",
       "      <th>horsepower</th>\n",
       "      <th>peak_rpm</th>\n",
       "      <th>city_mpg</th>\n",
       "      <th>highway_mpg</th>\n",
       "      <th>price</th>\n",
       "    </tr>\n",
       "  </thead>\n",
       "  <tbody>\n",
       "    <tr>\n",
       "      <th>0</th>\n",
       "      <td>3</td>\n",
       "      <td>88.6</td>\n",
       "      <td>168.8</td>\n",
       "      <td>64.1</td>\n",
       "      <td>48.8</td>\n",
       "      <td>2548</td>\n",
       "      <td>4</td>\n",
       "      <td>130</td>\n",
       "      <td>3.47</td>\n",
       "      <td>2.68</td>\n",
       "      <td>9.0</td>\n",
       "      <td>111.0</td>\n",
       "      <td>5000.0</td>\n",
       "      <td>21</td>\n",
       "      <td>27</td>\n",
       "      <td>13495.0</td>\n",
       "    </tr>\n",
       "    <tr>\n",
       "      <th>1</th>\n",
       "      <td>3</td>\n",
       "      <td>88.6</td>\n",
       "      <td>168.8</td>\n",
       "      <td>64.1</td>\n",
       "      <td>48.8</td>\n",
       "      <td>2548</td>\n",
       "      <td>4</td>\n",
       "      <td>130</td>\n",
       "      <td>3.47</td>\n",
       "      <td>2.68</td>\n",
       "      <td>9.0</td>\n",
       "      <td>111.0</td>\n",
       "      <td>5000.0</td>\n",
       "      <td>21</td>\n",
       "      <td>27</td>\n",
       "      <td>16500.0</td>\n",
       "    </tr>\n",
       "  </tbody>\n",
       "</table>\n",
       "</div>"
      ],
      "text/plain": [
       "   symboling  wheel_base  length  width  height  curb_weight  \\\n",
       "0          3        88.6   168.8   64.1    48.8         2548   \n",
       "1          3        88.6   168.8   64.1    48.8         2548   \n",
       "\n",
       "   num_of_cylinders  engine_size  bore  stroke  compression_ratio  horsepower  \\\n",
       "0                 4          130  3.47    2.68                9.0       111.0   \n",
       "1                 4          130  3.47    2.68                9.0       111.0   \n",
       "\n",
       "   peak_rpm  city_mpg  highway_mpg    price  \n",
       "0    5000.0        21           27  13495.0  \n",
       "1    5000.0        21           27  16500.0  "
      ]
     },
     "execution_count": 3,
     "metadata": {},
     "output_type": "execute_result"
    }
   ],
   "source": [
    "cars.head(2)"
   ]
  },
  {
   "cell_type": "code",
   "execution_count": 4,
   "id": "af2abe3d",
   "metadata": {},
   "outputs": [],
   "source": [
    "X= cars.iloc[:,:-1]\n",
    "y= cars.iloc[:,-1]"
   ]
  },
  {
   "cell_type": "code",
   "execution_count": 5,
   "id": "589407f2",
   "metadata": {},
   "outputs": [],
   "source": [
    "from sklearn.model_selection import train_test_split"
   ]
  },
  {
   "cell_type": "code",
   "execution_count": 6,
   "id": "d8e9b87e",
   "metadata": {},
   "outputs": [],
   "source": [
    "X_train, X_test, y_train, y_test= train_test_split(X,y, test_size=0.25, random_state=42)"
   ]
  },
  {
   "cell_type": "markdown",
   "id": "7a3dc6ad",
   "metadata": {},
   "source": [
    "# Hyper Param Tuning using Combination of Random and GridSearchCV "
   ]
  },
  {
   "cell_type": "code",
   "execution_count": 91,
   "id": "f89307e9",
   "metadata": {},
   "outputs": [],
   "source": [
    "from sklearn.model_selection import RandomizedSearchCV, GridSearchCV\n",
    "from sklearn.linear_model import ElasticNet\n",
    "# from sklearn.pipeline import Pipeline\n",
    "# from sklearn.preprocessing import StandardScaler\n",
    "from sklearn.metrics import r2_score, mean_squared_error\n",
    "import numpy as np\n",
    "import warnings\n",
    "warnings.filterwarnings(\"ignore\")"
   ]
  },
  {
   "cell_type": "code",
   "execution_count": 58,
   "id": "c4ef993b",
   "metadata": {},
   "outputs": [],
   "source": [
    "# # define the model with scaling and elsticnet regression\n",
    "# model= Pipeline([\n",
    "#     (\"scaler\", StandardScaler()),\n",
    "#     (\"regression\", ElasticNet())\n",
    "# ])"
   ]
  },
  {
   "cell_type": "code",
   "execution_count": 59,
   "id": "fdbded12",
   "metadata": {},
   "outputs": [],
   "source": [
    "# initializing the elsticnet model\n",
    "elastic_net= ElasticNet()"
   ]
  },
  {
   "cell_type": "code",
   "execution_count": 60,
   "id": "15b1d6fe",
   "metadata": {},
   "outputs": [],
   "source": [
    "# Define the param grid for random_search defining Standard scaler and elsticnet params.\n",
    "param_dist_random = {\n",
    "    \"alpha\": np.logspace(-2, 2, 20),  # it will take 20 values in range 0.01 to 100(10^-2 to 10^+2).\n",
    "    \"l1_ratio\": np.linspace(0, 1, 20), # its will take 20 equal space values between 0 and 1.\n",
    "    \"normalize\": [True, False], # i have used here normalization instead of Standardization\n",
    "    \"fit_intercept\": [True, False],\n",
    "}"
   ]
  },
  {
   "cell_type": "markdown",
   "id": "47c60e60",
   "metadata": {},
   "source": [
    "Note: Since I have not used Pipeline and I have not definied scaler or regression in the pipeline, I shouldnt give \n",
    "      regression__ or scaler__ as prefix in the param_dist_random. If I give it will throw an error."
   ]
  },
  {
   "cell_type": "code",
   "execution_count": 61,
   "id": "01fd6a0e",
   "metadata": {},
   "outputs": [],
   "source": [
    "# Perform Randomized Search\n",
    "random_search = RandomizedSearchCV(\n",
    "    elastic_net,\n",
    "    param_distributions=param_dist_random,\n",
    "    n_iter=50,  # Number of random samples\n",
    "    cv=5,       # Cross-validation folds\n",
    "    scoring=\"r2\",\n",
    "    random_state=42\n",
    ")"
   ]
  },
  {
   "cell_type": "code",
   "execution_count": 62,
   "id": "045d0419",
   "metadata": {
    "scrolled": false
   },
   "outputs": [
    {
     "data": {
      "text/plain": [
       "RandomizedSearchCV(cv=5, estimator=ElasticNet(), n_iter=50,\n",
       "                   param_distributions={'alpha': array([1.00000000e-02, 1.62377674e-02, 2.63665090e-02, 4.28133240e-02,\n",
       "       6.95192796e-02, 1.12883789e-01, 1.83298071e-01, 2.97635144e-01,\n",
       "       4.83293024e-01, 7.84759970e-01, 1.27427499e+00, 2.06913808e+00,\n",
       "       3.35981829e+00, 5.45559478e+00, 8.85866790e+00, 1.43844989e+01,\n",
       "       2.33572147e+01, 3.79269019e+01, 6.15848211e+01, 1.00000000e+02]),\n",
       "                                        'fit_intercept': [True, False],\n",
       "                                        'l1_ratio': array([0.        , 0.05263158, 0.10526316, 0.15789474, 0.21052632,\n",
       "       0.26315789, 0.31578947, 0.36842105, 0.42105263, 0.47368421,\n",
       "       0.52631579, 0.57894737, 0.63157895, 0.68421053, 0.73684211,\n",
       "       0.78947368, 0.84210526, 0.89473684, 0.94736842, 1.        ]),\n",
       "                                        'normalize': [True, False]},\n",
       "                   random_state=42, scoring='r2')"
      ]
     },
     "execution_count": 62,
     "metadata": {},
     "output_type": "execute_result"
    }
   ],
   "source": [
    "# Fit the random_search model to the train data\n",
    "random_search.fit(X_train, y_train)"
   ]
  },
  {
   "cell_type": "code",
   "execution_count": 76,
   "id": "e78780be",
   "metadata": {},
   "outputs": [],
   "source": [
    "# Get the best hyperparameters from Randomized Search\n",
    "best_params_random = random_search.best_params_"
   ]
  },
  {
   "cell_type": "code",
   "execution_count": 77,
   "id": "710f4ba1",
   "metadata": {},
   "outputs": [
    {
     "data": {
      "text/plain": [
       "{'normalize': False,\n",
       " 'l1_ratio': 0.631578947368421,\n",
       " 'fit_intercept': False,\n",
       " 'alpha': 0.01}"
      ]
     },
     "execution_count": 77,
     "metadata": {},
     "output_type": "execute_result"
    }
   ],
   "source": [
    "best_params_random"
   ]
  },
  {
   "cell_type": "code",
   "execution_count": 83,
   "id": "4a4139c1",
   "metadata": {},
   "outputs": [],
   "source": [
    "# Define hyperparameter search space for Grid Search around the best parameters from Randomized Search\n",
    "param_grid_grid = {\n",
    "    \"alpha\": [best_params_random[\"alpha\"] - 1.0, \n",
    "                             best_params_random[\"alpha\"], best_params_random[\"alpha\"] + 1.0],\n",
    "    \"l1_ratio\": [best_params_random[\"l1_ratio\"] - 1.0, \n",
    "                             best_params_random[\"l1_ratio\"], best_params_random[\"l1_ratio\"] + 1.0],\n",
    "    \"normalize\": [best_params_random[\"normalize\"]],\n",
    "    \"fit_intercept\": [True, False],  # i have taken all params from Random search but this intercept i wanted to get from grid search.\n",
    "}\n"
   ]
  },
  {
   "cell_type": "code",
   "execution_count": 84,
   "id": "6bc93e25",
   "metadata": {},
   "outputs": [],
   "source": [
    "# Perform Grid Search around the best parameters from Randomized Search\n",
    "random_grid_search = GridSearchCV(\n",
    "    elastic_net, \n",
    "    param_grid=param_grid_grid,\n",
    "    cv=5,       # Cross-validation folds\n",
    "    scoring=\"r2\",\n",
    "    verbose=1\n",
    ")"
   ]
  },
  {
   "cell_type": "code",
   "execution_count": 85,
   "id": "41844dde",
   "metadata": {},
   "outputs": [
    {
     "name": "stdout",
     "output_type": "stream",
     "text": [
      "Fitting 5 folds for each of 18 candidates, totalling 90 fits\n"
     ]
    },
    {
     "data": {
      "text/plain": [
       "GridSearchCV(cv=5, estimator=ElasticNet(),\n",
       "             param_grid={'alpha': [-0.99, 0.01, 1.01],\n",
       "                         'fit_intercept': [True, False],\n",
       "                         'l1_ratio': [-0.368421052631579, 0.631578947368421,\n",
       "                                      1.631578947368421],\n",
       "                         'normalize': [False]},\n",
       "             scoring='r2', verbose=1)"
      ]
     },
     "execution_count": 85,
     "metadata": {},
     "output_type": "execute_result"
    }
   ],
   "source": [
    "# Fit the grid_Search model to the train data\n",
    "random_grid_search.fit(X_train, y_train)"
   ]
  },
  {
   "cell_type": "code",
   "execution_count": 86,
   "id": "d20db604",
   "metadata": {},
   "outputs": [],
   "source": [
    "# Get the best hyperparameters from Grid Search\n",
    "best_params_grid = random_grid_search.best_params_"
   ]
  },
  {
   "cell_type": "code",
   "execution_count": 87,
   "id": "b01a6ad3",
   "metadata": {},
   "outputs": [
    {
     "data": {
      "text/plain": [
       "{'alpha': 0.01,\n",
       " 'fit_intercept': False,\n",
       " 'l1_ratio': 0.631578947368421,\n",
       " 'normalize': False}"
      ]
     },
     "execution_count": 87,
     "metadata": {},
     "output_type": "execute_result"
    }
   ],
   "source": [
    "best_params_grid "
   ]
  },
  {
   "cell_type": "code",
   "execution_count": 88,
   "id": "934274f9",
   "metadata": {},
   "outputs": [
    {
     "name": "stdout",
     "output_type": "stream",
     "text": [
      "Best Hyperparameters from Randomized Search: {'normalize': False, 'l1_ratio': 0.631578947368421, 'fit_intercept': False, 'alpha': 0.01}\n",
      "Best Hyperparameters from Grid Search: {'alpha': 0.01, 'fit_intercept': False, 'l1_ratio': 0.631578947368421, 'normalize': False}\n",
      "Best R-squared Score:  0.7345125699399003\n"
     ]
    }
   ],
   "source": [
    "# Compare the results\n",
    "print(\"Best Hyperparameters from Randomized Search:\", best_params_random)\n",
    "print(\"Best Hyperparameters from Grid Search:\", best_params_grid)\n",
    "print(\"Best R-squared Score: \", random_grid_search.best_score_)"
   ]
  },
  {
   "cell_type": "code",
   "execution_count": 90,
   "id": "5cf72e60",
   "metadata": {},
   "outputs": [],
   "source": [
    "# Evaluate on the test set\n",
    "best_model_grid = random_grid_search.best_estimator_\n",
    "y_pred= best_model_grid.predict(X_test)"
   ]
  },
  {
   "cell_type": "code",
   "execution_count": 92,
   "id": "f872a40e",
   "metadata": {},
   "outputs": [],
   "source": [
    "r2_random_grid_cv = r2_score(y_test, y_pred)"
   ]
  },
  {
   "cell_type": "code",
   "execution_count": 93,
   "id": "3464e386",
   "metadata": {},
   "outputs": [
    {
     "data": {
      "text/plain": [
       "0.7935976836330596"
      ]
     },
     "execution_count": 93,
     "metadata": {},
     "output_type": "execute_result"
    }
   ],
   "source": [
    "r2_random_grid_cv"
   ]
  },
  {
   "cell_type": "code",
   "execution_count": null,
   "id": "891c47e5",
   "metadata": {},
   "outputs": [],
   "source": []
  },
  {
   "cell_type": "code",
   "execution_count": null,
   "id": "0b90235a",
   "metadata": {},
   "outputs": [],
   "source": []
  },
  {
   "cell_type": "code",
   "execution_count": null,
   "id": "c70daa4d",
   "metadata": {},
   "outputs": [],
   "source": []
  }
 ],
 "metadata": {
  "kernelspec": {
   "display_name": "Python 3 (ipykernel)",
   "language": "python",
   "name": "python3"
  },
  "language_info": {
   "codemirror_mode": {
    "name": "ipython",
    "version": 3
   },
   "file_extension": ".py",
   "mimetype": "text/x-python",
   "name": "python",
   "nbconvert_exporter": "python",
   "pygments_lexer": "ipython3",
   "version": "3.9.15"
  }
 },
 "nbformat": 4,
 "nbformat_minor": 5
}
