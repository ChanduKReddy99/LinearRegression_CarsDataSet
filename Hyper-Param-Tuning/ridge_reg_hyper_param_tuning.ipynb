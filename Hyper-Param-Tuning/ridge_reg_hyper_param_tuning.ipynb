{
 "cells": [
  {
   "cell_type": "code",
   "execution_count": 3,
   "id": "51d48815",
   "metadata": {},
   "outputs": [],
   "source": [
    "import pandas as pd"
   ]
  },
  {
   "cell_type": "code",
   "execution_count": 4,
   "id": "7dea5bc5",
   "metadata": {},
   "outputs": [],
   "source": [
    "cars= pd.read_csv(\"auto_mpg_preprocessed.csv\")"
   ]
  },
  {
   "cell_type": "code",
   "execution_count": 5,
   "id": "ba378a0c",
   "metadata": {},
   "outputs": [
    {
     "data": {
      "text/html": [
       "<div>\n",
       "<style scoped>\n",
       "    .dataframe tbody tr th:only-of-type {\n",
       "        vertical-align: middle;\n",
       "    }\n",
       "\n",
       "    .dataframe tbody tr th {\n",
       "        vertical-align: top;\n",
       "    }\n",
       "\n",
       "    .dataframe thead th {\n",
       "        text-align: right;\n",
       "    }\n",
       "</style>\n",
       "<table border=\"1\" class=\"dataframe\">\n",
       "  <thead>\n",
       "    <tr style=\"text-align: right;\">\n",
       "      <th></th>\n",
       "      <th>symboling</th>\n",
       "      <th>wheel_base</th>\n",
       "      <th>length</th>\n",
       "      <th>width</th>\n",
       "      <th>height</th>\n",
       "      <th>curb_weight</th>\n",
       "      <th>num_of_cylinders</th>\n",
       "      <th>engine_size</th>\n",
       "      <th>bore</th>\n",
       "      <th>stroke</th>\n",
       "      <th>compression_ratio</th>\n",
       "      <th>horsepower</th>\n",
       "      <th>peak_rpm</th>\n",
       "      <th>city_mpg</th>\n",
       "      <th>highway_mpg</th>\n",
       "      <th>price</th>\n",
       "    </tr>\n",
       "  </thead>\n",
       "  <tbody>\n",
       "    <tr>\n",
       "      <th>0</th>\n",
       "      <td>3</td>\n",
       "      <td>88.6</td>\n",
       "      <td>168.8</td>\n",
       "      <td>64.1</td>\n",
       "      <td>48.8</td>\n",
       "      <td>2548</td>\n",
       "      <td>4</td>\n",
       "      <td>130</td>\n",
       "      <td>3.47</td>\n",
       "      <td>2.68</td>\n",
       "      <td>9.0</td>\n",
       "      <td>111.0</td>\n",
       "      <td>5000.0</td>\n",
       "      <td>21</td>\n",
       "      <td>27</td>\n",
       "      <td>13495.0</td>\n",
       "    </tr>\n",
       "    <tr>\n",
       "      <th>1</th>\n",
       "      <td>3</td>\n",
       "      <td>88.6</td>\n",
       "      <td>168.8</td>\n",
       "      <td>64.1</td>\n",
       "      <td>48.8</td>\n",
       "      <td>2548</td>\n",
       "      <td>4</td>\n",
       "      <td>130</td>\n",
       "      <td>3.47</td>\n",
       "      <td>2.68</td>\n",
       "      <td>9.0</td>\n",
       "      <td>111.0</td>\n",
       "      <td>5000.0</td>\n",
       "      <td>21</td>\n",
       "      <td>27</td>\n",
       "      <td>16500.0</td>\n",
       "    </tr>\n",
       "  </tbody>\n",
       "</table>\n",
       "</div>"
      ],
      "text/plain": [
       "   symboling  wheel_base  length  width  height  curb_weight  \\\n",
       "0          3        88.6   168.8   64.1    48.8         2548   \n",
       "1          3        88.6   168.8   64.1    48.8         2548   \n",
       "\n",
       "   num_of_cylinders  engine_size  bore  stroke  compression_ratio  horsepower  \\\n",
       "0                 4          130  3.47    2.68                9.0       111.0   \n",
       "1                 4          130  3.47    2.68                9.0       111.0   \n",
       "\n",
       "   peak_rpm  city_mpg  highway_mpg    price  \n",
       "0    5000.0        21           27  13495.0  \n",
       "1    5000.0        21           27  16500.0  "
      ]
     },
     "execution_count": 5,
     "metadata": {},
     "output_type": "execute_result"
    }
   ],
   "source": [
    "cars.head(2)"
   ]
  },
  {
   "cell_type": "code",
   "execution_count": 6,
   "id": "35d74f05",
   "metadata": {},
   "outputs": [],
   "source": [
    "X= cars.iloc[:, :-1]\n",
    "y= cars.iloc[:, -1]"
   ]
  },
  {
   "cell_type": "code",
   "execution_count": 7,
   "id": "876b4faf",
   "metadata": {},
   "outputs": [],
   "source": [
    "from sklearn.model_selection import train_test_split"
   ]
  },
  {
   "cell_type": "code",
   "execution_count": 8,
   "id": "3a94cfe4",
   "metadata": {},
   "outputs": [],
   "source": [
    "X_train, X_test, y_train, y_test= train_test_split(X,y, test_size=0.25, random_state=42)"
   ]
  },
  {
   "cell_type": "code",
   "execution_count": 9,
   "id": "853f95a4",
   "metadata": {},
   "outputs": [
    {
     "data": {
      "text/plain": [
       "(153, 153)"
      ]
     },
     "execution_count": 9,
     "metadata": {},
     "output_type": "execute_result"
    }
   ],
   "source": [
    "len(X_train), len(y_train)"
   ]
  },
  {
   "cell_type": "code",
   "execution_count": 10,
   "id": "23cf12bb",
   "metadata": {},
   "outputs": [
    {
     "data": {
      "text/plain": [
       "(52, 52)"
      ]
     },
     "execution_count": 10,
     "metadata": {},
     "output_type": "execute_result"
    }
   ],
   "source": [
    "len(X_test), len(y_test)"
   ]
  },
  {
   "cell_type": "markdown",
   "id": "1c94cd1c",
   "metadata": {},
   "source": [
    "# Hyper Param Tuning using GridSearchCV"
   ]
  },
  {
   "cell_type": "code",
   "execution_count": 11,
   "id": "ba65e870",
   "metadata": {},
   "outputs": [],
   "source": [
    "from sklearn.model_selection import GridSearchCV\n",
    "from sklearn.preprocessing import StandardScaler\n",
    "from sklearn.pipeline import Pipeline\n",
    "from sklearn.linear_model import Ridge"
   ]
  },
  {
   "cell_type": "code",
   "execution_count": 12,
   "id": "0a34efc4",
   "metadata": {},
   "outputs": [],
   "source": [
    "# create a pipeline with Scaling and LinearReg model, so that i can call pipeline together.\n",
    "model = Pipeline([\n",
    "    (\"scaler\", StandardScaler()),\n",
    "    (\"regression\", Ridge())\n",
    "])"
   ]
  },
  {
   "cell_type": "code",
   "execution_count": 13,
   "id": "ad821910",
   "metadata": {},
   "outputs": [],
   "source": [
    "# Define the param grid for Standard scaler and Ridge Reg model\n",
    "param_grid = {\n",
    "    \"regression__alpha\": [0.1, 1.0, 10.0], # regularization strength\n",
    "    \"scaler__with_mean\": [True],  # always center the data\n",
    "    \"scaler__with_std\": [True],   # always scale the data, i,e both combine standardize the data\n",
    "    \"regression__fit_intercept\": [True, False],\n",
    "}"
   ]
  },
  {
   "cell_type": "markdown",
   "id": "d5299d7c",
   "metadata": {},
   "source": [
    "Note: \n",
    "\n",
    "    1. Here I wanted standard scaling happen all the time so thats why i have passed True for both with_mean and with_std.\n",
    "       I have used the Ridge as we have hyper param alpha in it. You can use Simple Linear Reg or Lasso as well.\n",
    "    \n",
    "    2. We can use normalize instead of StandardScaler(), in this case you dont need pipeline as in the linear regression \n",
    "       itself has the param normalize. You just have to pass \"normalize: [True, Pass] in param_grid.\n",
    "       \n",
    "    3. I have given double underscore as pram_grid expects such notation. ex: scaler__with_mean. when you didnt define \n",
    "       pipeline  you can simply give \"fit_intercept\": [Tru, False] and \"noramlize\": [Tru, False]\n",
    "       \n",
    "    4. GridSearchCV will try all the combinations like regression_alpha: 0.1, scaler__with_mean: True, Scaler__with_std: \n",
    "       False regression__fit_ointercept: True ....etc its will all the combinations.  Thats why i just kept True for both \n",
    "       mean and std as I wanted stadardscaler should happen all the time. \n",
    "     "
   ]
  },
  {
   "cell_type": "code",
   "execution_count": 14,
   "id": "24ed76e9",
   "metadata": {},
   "outputs": [],
   "source": [
    "# Initialize GridSearchCV with R-squared as the scoring metric and definied param_grid and crossvalidation=5\n",
    "grid_search = GridSearchCV(model, param_grid, cv=5, scoring='r2', verbose=1, return_train_score=True)"
   ]
  },
  {
   "cell_type": "markdown",
   "id": "2af3473a",
   "metadata": {},
   "source": [
    "Note: I have passed scoring metric = r2. You can give  \"neg_mean_squared_error\" also. As GridSearchCV maximises the \n",
    "    scoring metric. So if we want a good score we must reduce the error so we must pass that negative term to loss function"
   ]
  },
  {
   "cell_type": "code",
   "execution_count": 15,
   "id": "e8922a5c",
   "metadata": {},
   "outputs": [
    {
     "name": "stdout",
     "output_type": "stream",
     "text": [
      "Fitting 5 folds for each of 6 candidates, totalling 30 fits\n"
     ]
    },
    {
     "data": {
      "text/plain": [
       "GridSearchCV(cv=5,\n",
       "             estimator=Pipeline(steps=[('scaler', StandardScaler()),\n",
       "                                       ('regression', Ridge())]),\n",
       "             param_grid={'regression__alpha': [0.1, 1.0, 10.0],\n",
       "                         'regression__fit_intercept': [True, False],\n",
       "                         'scaler__with_mean': [True],\n",
       "                         'scaler__with_std': [True]},\n",
       "             return_train_score=True, scoring='r2', verbose=1)"
      ]
     },
     "execution_count": 15,
     "metadata": {},
     "output_type": "execute_result"
    }
   ],
   "source": [
    "# fit the train data to grid_Search\n",
    "grid_search.fit(X_train, y_train)"
   ]
  },
  {
   "cell_type": "code",
   "execution_count": 16,
   "id": "26661126",
   "metadata": {},
   "outputs": [
    {
     "name": "stdout",
     "output_type": "stream",
     "text": [
      "Best Parameters:  {'regression__alpha': 10.0, 'regression__fit_intercept': True, 'scaler__with_mean': True, 'scaler__with_std': True}\n",
      "Best R-squared Score:  0.7120270930412264\n"
     ]
    }
   ],
   "source": [
    "# Print the best parameters and corresponding R-squared score\n",
    "print(\"Best Parameters: \", grid_search.best_params_)\n",
    "print(\"Best R-squared Score: \", grid_search.best_score_)"
   ]
  },
  {
   "cell_type": "code",
   "execution_count": 17,
   "id": "4aa7de24",
   "metadata": {},
   "outputs": [],
   "source": [
    "# Evaluate on the test set\n",
    "best_model = grid_search.best_estimator_\n",
    "y_pred = best_model.predict(X_test)"
   ]
  },
  {
   "cell_type": "code",
   "execution_count": 18,
   "id": "5a2979c6",
   "metadata": {},
   "outputs": [],
   "source": [
    "from sklearn.metrics import r2_score, mean_squared_error"
   ]
  },
  {
   "cell_type": "code",
   "execution_count": 19,
   "id": "847e6c5e",
   "metadata": {},
   "outputs": [],
   "source": [
    "r2 = r2_score(y_test, y_pred)"
   ]
  },
  {
   "cell_type": "code",
   "execution_count": 20,
   "id": "9043f00b",
   "metadata": {},
   "outputs": [
    {
     "data": {
      "text/plain": [
       "0.7709018468949935"
      ]
     },
     "execution_count": 20,
     "metadata": {},
     "output_type": "execute_result"
    }
   ],
   "source": [
    "r2"
   ]
  },
  {
   "cell_type": "markdown",
   "id": "ee6355b3",
   "metadata": {},
   "source": [
    "Note: The R-squared score (0.68) obtained during cross-validation gives an estimate of how well the model performs on average across different validation sets from the training data.\n",
    "The R-squared score (0.79) on the test set gives an indication of how well the model generalizes to new, unseen data."
   ]
  },
  {
   "cell_type": "code",
   "execution_count": 21,
   "id": "849b66ce",
   "metadata": {},
   "outputs": [],
   "source": [
    "#grid_search.cv_results_"
   ]
  },
  {
   "cell_type": "markdown",
   "id": "3c2fe9ab",
   "metadata": {},
   "source": [
    "# Hyper Param Tuning using RandomizedSearchCV"
   ]
  },
  {
   "cell_type": "code",
   "execution_count": 22,
   "id": "b8df1c1f",
   "metadata": {},
   "outputs": [],
   "source": [
    "from sklearn.model_selection import RandomizedSearchCV\n",
    "import numpy as np"
   ]
  },
  {
   "cell_type": "code",
   "execution_count": 23,
   "id": "f2224ca1",
   "metadata": {},
   "outputs": [],
   "source": [
    "# Define the param grid for Standard scaler and Ridge Reg model\n",
    "param_dist = {\n",
    "    \"regression__alpha\": np.logspace(-3, 3, 100),  # Randomly sample from a logarithmic scale.\n",
    "    \"scaler__with_mean\": [True],  # always center the data.\n",
    "    \"scaler__with_std\": [True],   # always scale the data, i,e both combine standardize the data.\n",
    "    \"regression__fit_intercept\": [True, False],\n",
    "}"
   ]
  },
  {
   "cell_type": "markdown",
   "id": "c053ef80",
   "metadata": {},
   "source": [
    "Note: \n",
    "    \n",
    "      1. In GridSearchCV exhaustively searches through all possible combinations of hyperparameter values provided in \n",
    "         the param_grid. Where as RandomizedSearchCV has n_iter and it will all the given number combinations in the n_iter.\n",
    "        \n",
    "      2. In grid search, you manually specify a finite set of values to try. However, when using randomized search,\n",
    "         you can't try every possible value. By using np.logspace(-3, 3, 100), you are essentially saying \n",
    "        \"try values from 10^(-3) to 10^(3)\" with 100 samples in between. This allows you to cover a broad range of potential\n",
    "         values without explicitly specifying each one.\n",
    "        "
   ]
  },
  {
   "cell_type": "code",
   "execution_count": 24,
   "id": "b4bdfb1f",
   "metadata": {},
   "outputs": [],
   "source": [
    "# Initialize RandomizedSearchCV with neg_mean_squared_error as the scoring metric.\n",
    "# I have used neg_mean_squared_error instead r2. You can use r2 if you want.\n",
    "random_search = RandomizedSearchCV(model, param_distributions= param_dist, n_iter= 10, cv= 5, \n",
    "                                   scoring= \"neg_mean_squared_error\", verbose= 1, random_state=42)\n"
   ]
  },
  {
   "cell_type": "code",
   "execution_count": 25,
   "id": "32eca4e3",
   "metadata": {},
   "outputs": [
    {
     "name": "stdout",
     "output_type": "stream",
     "text": [
      "Fitting 5 folds for each of 10 candidates, totalling 50 fits\n"
     ]
    },
    {
     "data": {
      "text/plain": [
       "RandomizedSearchCV(cv=5,\n",
       "                   estimator=Pipeline(steps=[('scaler', StandardScaler()),\n",
       "                                             ('regression', Ridge())]),\n",
       "                   param_distributions={'regression__alpha': array([1.00000000e-03, 1.14975700e-03, 1.32194115e-03, 1.51991108e-03,\n",
       "       1.74752840e-03, 2.00923300e-03, 2.31012970e-03, 2.65608778e-03,\n",
       "       3.05385551e-03, 3.51119173e-03, 4.03701726e-03, 4.64158883e-03,\n",
       "       5.33669923e-03, 6.13...\n",
       "       1.23284674e+02, 1.41747416e+02, 1.62975083e+02, 1.87381742e+02,\n",
       "       2.15443469e+02, 2.47707636e+02, 2.84803587e+02, 3.27454916e+02,\n",
       "       3.76493581e+02, 4.32876128e+02, 4.97702356e+02, 5.72236766e+02,\n",
       "       6.57933225e+02, 7.56463328e+02, 8.69749003e+02, 1.00000000e+03]),\n",
       "                                        'regression__fit_intercept': [True,\n",
       "                                                                      False],\n",
       "                                        'scaler__with_mean': [True],\n",
       "                                        'scaler__with_std': [True]},\n",
       "                   random_state=42, scoring='neg_mean_squared_error',\n",
       "                   verbose=1)"
      ]
     },
     "execution_count": 25,
     "metadata": {},
     "output_type": "execute_result"
    }
   ],
   "source": [
    "# fit the train data to random_search\n",
    "random_search.fit(X_train, y_train)"
   ]
  },
  {
   "cell_type": "code",
   "execution_count": 26,
   "id": "59fc086a",
   "metadata": {},
   "outputs": [
    {
     "name": "stdout",
     "output_type": "stream",
     "text": [
      "Best Parameters:  {'scaler__with_std': True, 'scaler__with_mean': True, 'regression__fit_intercept': True, 'regression__alpha': 61.35907273413176}\n",
      "Best negative mean squared error:  -17206989.057663754\n"
     ]
    }
   ],
   "source": [
    "# Print the best parameters and corresponding R-squared score\n",
    "print(\"Best Parameters: \", random_search.best_params_)\n",
    "print(\"Best negative mean squared error: \", random_search.best_score_)"
   ]
  },
  {
   "cell_type": "code",
   "execution_count": 27,
   "id": "a02fa68f",
   "metadata": {},
   "outputs": [],
   "source": [
    "# Evaluate on the test set\n",
    "best_model = random_search.best_estimator_\n",
    "y_pred = best_model.predict(X_test)"
   ]
  },
  {
   "cell_type": "code",
   "execution_count": 28,
   "id": "1c9735e5",
   "metadata": {},
   "outputs": [],
   "source": [
    "r2_random_cv = r2_score(y_test, y_pred)"
   ]
  },
  {
   "cell_type": "code",
   "execution_count": 29,
   "id": "f38b2ea8",
   "metadata": {},
   "outputs": [
    {
     "data": {
      "text/plain": [
       "0.7395536735631596"
      ]
     },
     "execution_count": 29,
     "metadata": {},
     "output_type": "execute_result"
    }
   ],
   "source": [
    "r2_random_cv"
   ]
  },
  {
   "cell_type": "markdown",
   "id": "178b3203",
   "metadata": {},
   "source": [
    "# Combination of RandomizedSearchCV and GridSearchCV"
   ]
  },
  {
   "cell_type": "code",
   "execution_count": 30,
   "id": "fd865496",
   "metadata": {},
   "outputs": [],
   "source": [
    "from scipy.stats import uniform"
   ]
  },
  {
   "cell_type": "code",
   "execution_count": 31,
   "id": "467f0f72",
   "metadata": {},
   "outputs": [],
   "source": [
    "# Define the param grid for random_search defining Standard scaler and Ridge Reg params.\n",
    "param_dist_random = {\n",
    "    \"regression__alpha\": uniform(0.1, 10),  # uniform dist for alpha, i,e take alpha from uniform dist.\n",
    "    \"scaler__with_mean\": [True],  # always center the data.\n",
    "    \"scaler__with_std\": [True],   # always scale the data, i,e both combine standardize the data.\n",
    "    \"regression__fit_intercept\": [True, False],\n",
    "}"
   ]
  },
  {
   "cell_type": "code",
   "execution_count": 32,
   "id": "6b48051d",
   "metadata": {},
   "outputs": [],
   "source": [
    "# define model\n",
    "model = Pipeline([\n",
    "    (\"scaler\", StandardScaler()),\n",
    "    (\"regression\", Ridge())\n",
    "])"
   ]
  },
  {
   "cell_type": "code",
   "execution_count": 33,
   "id": "1130ade0",
   "metadata": {},
   "outputs": [],
   "source": [
    "# Perform Randomized Search\n",
    "random_search = RandomizedSearchCV(\n",
    "    model,\n",
    "    param_distributions=param_dist_random,\n",
    "    n_iter=10,  # Number of random samples\n",
    "    cv=5,       # Cross-validation folds\n",
    "    scoring=\"r2\",\n",
    "    random_state=42\n",
    ")"
   ]
  },
  {
   "cell_type": "code",
   "execution_count": 34,
   "id": "9e889c48",
   "metadata": {},
   "outputs": [
    {
     "data": {
      "text/plain": [
       "RandomizedSearchCV(cv=5,\n",
       "                   estimator=Pipeline(steps=[('scaler', StandardScaler()),\n",
       "                                             ('regression', Ridge())]),\n",
       "                   param_distributions={'regression__alpha': <scipy.stats._distn_infrastructure.rv_continuous_frozen object at 0x000002B4A707E880>,\n",
       "                                        'regression__fit_intercept': [True,\n",
       "                                                                      False],\n",
       "                                        'scaler__with_mean': [True],\n",
       "                                        'scaler__with_std': [True]},\n",
       "                   random_state=42, scoring='r2')"
      ]
     },
     "execution_count": 34,
     "metadata": {},
     "output_type": "execute_result"
    }
   ],
   "source": [
    "# Fit the random_search model to the train data\n",
    "random_search.fit(X_train, y_train)"
   ]
  },
  {
   "cell_type": "code",
   "execution_count": 35,
   "id": "ec5178a2",
   "metadata": {},
   "outputs": [],
   "source": [
    "# Get the best hyperparameters from Randomized Search\n",
    "best_params_random = random_search.best_params_"
   ]
  },
  {
   "cell_type": "code",
   "execution_count": 36,
   "id": "8439476e",
   "metadata": {},
   "outputs": [
    {
     "data": {
      "text/plain": [
       "{'regression__alpha': 6.086584841970366,\n",
       " 'regression__fit_intercept': True,\n",
       " 'scaler__with_mean': True,\n",
       " 'scaler__with_std': True}"
      ]
     },
     "execution_count": 36,
     "metadata": {},
     "output_type": "execute_result"
    }
   ],
   "source": [
    "best_params_random"
   ]
  },
  {
   "cell_type": "code",
   "execution_count": 37,
   "id": "d5790534",
   "metadata": {},
   "outputs": [],
   "source": [
    "# Define hyperparameter search space for Grid Search around the best parameters from Randomized Search\n",
    "param_grid_grid = {\n",
    "    \"regression__alpha\": [best_params_random[\"regression__alpha\"] - 1.0, \n",
    "                             best_params_random[\"regression__alpha\"], best_params_random[\"regression__alpha\"] + 1.0],\n",
    "    \"scaler__with_mean\": [best_params_random[\"scaler__with_mean\"]],# Anyhow i kept mean and std constant as True i can take those values from random_search as it is.\n",
    "    \"scaler__with_std\": [best_params_random[\"scaler__with_std\"]],\n",
    "    \"regression__fit_intercept\": [True, False],  # since its not a constant like only True or False, so i am not taking from random_search \n",
    "}\n"
   ]
  },
  {
   "cell_type": "code",
   "execution_count": 38,
   "id": "ea1026a7",
   "metadata": {},
   "outputs": [],
   "source": [
    "# Perform Grid Search around the best parameters from Randomized Search\n",
    "random_grid_search = GridSearchCV(\n",
    "                        model, \n",
    "                        param_grid=param_grid_grid,\n",
    "                        cv=5,       # Cross-validation folds\n",
    "                        scoring=\"r2\",\n",
    "                        verbose=1\n",
    "                        )"
   ]
  },
  {
   "cell_type": "code",
   "execution_count": 39,
   "id": "aebd3fd7",
   "metadata": {},
   "outputs": [
    {
     "name": "stdout",
     "output_type": "stream",
     "text": [
      "Fitting 5 folds for each of 6 candidates, totalling 30 fits\n"
     ]
    },
    {
     "data": {
      "text/plain": [
       "GridSearchCV(cv=5,\n",
       "             estimator=Pipeline(steps=[('scaler', StandardScaler()),\n",
       "                                       ('regression', Ridge())]),\n",
       "             param_grid={'regression__alpha': [5.086584841970366,\n",
       "                                               6.086584841970366,\n",
       "                                               7.086584841970366],\n",
       "                         'regression__fit_intercept': [True, False],\n",
       "                         'scaler__with_mean': [True],\n",
       "                         'scaler__with_std': [True]},\n",
       "             scoring='r2', verbose=1)"
      ]
     },
     "execution_count": 39,
     "metadata": {},
     "output_type": "execute_result"
    }
   ],
   "source": [
    "# Fit the grid_Search model to the train data\n",
    "random_grid_search.fit(X_train, y_train)"
   ]
  },
  {
   "cell_type": "code",
   "execution_count": 40,
   "id": "d886875d",
   "metadata": {},
   "outputs": [],
   "source": [
    "# Get the best hyperparameters from Grid Search\n",
    "best_params_grid = random_grid_search.best_params_"
   ]
  },
  {
   "cell_type": "code",
   "execution_count": 41,
   "id": "0f4cd4e3",
   "metadata": {},
   "outputs": [
    {
     "data": {
      "text/plain": [
       "{'regression__alpha': 7.086584841970366,\n",
       " 'regression__fit_intercept': True,\n",
       " 'scaler__with_mean': True,\n",
       " 'scaler__with_std': True}"
      ]
     },
     "execution_count": 41,
     "metadata": {},
     "output_type": "execute_result"
    }
   ],
   "source": [
    "best_params_grid"
   ]
  },
  {
   "cell_type": "code",
   "execution_count": 42,
   "id": "1db77e4b",
   "metadata": {},
   "outputs": [
    {
     "name": "stdout",
     "output_type": "stream",
     "text": [
      "Best Hyperparameters from Randomized Search: {'regression__alpha': 6.086584841970366, 'regression__fit_intercept': True, 'scaler__with_mean': True, 'scaler__with_std': True}\n",
      "Best Hyperparameters from Grid Search: {'regression__alpha': 7.086584841970366, 'regression__fit_intercept': True, 'scaler__with_mean': True, 'scaler__with_std': True}\n",
      "Best R-squared Score:  0.7116310175135241\n"
     ]
    }
   ],
   "source": [
    "# Compare the results\n",
    "print(\"Best Hyperparameters from Randomized Search:\", best_params_random)\n",
    "print(\"Best Hyperparameters from Grid Search:\", best_params_grid)\n",
    "print(\"Best R-squared Score: \", random_grid_search.best_score_)"
   ]
  },
  {
   "cell_type": "code",
   "execution_count": 43,
   "id": "ebb0643d",
   "metadata": {},
   "outputs": [],
   "source": [
    "# Evaluate on the test set\n",
    "best_model_grid = grid_search.best_estimator_\n",
    "y_pred= best_model_grid.predict(X_test)"
   ]
  },
  {
   "cell_type": "code",
   "execution_count": 44,
   "id": "bb0dfd00",
   "metadata": {},
   "outputs": [],
   "source": [
    "r2_random_grid_cv = r2_score(y_test, y_pred)"
   ]
  },
  {
   "cell_type": "code",
   "execution_count": 45,
   "id": "942f78cd",
   "metadata": {},
   "outputs": [
    {
     "data": {
      "text/plain": [
       "0.7709018468949935"
      ]
     },
     "execution_count": 45,
     "metadata": {},
     "output_type": "execute_result"
    }
   ],
   "source": [
    "r2_random_grid_cv"
   ]
  },
  {
   "cell_type": "code",
   "execution_count": null,
   "id": "b97d24b3",
   "metadata": {},
   "outputs": [],
   "source": []
  },
  {
   "cell_type": "markdown",
   "id": "4f13002e",
   "metadata": {},
   "source": [
    "# Bayesian Optimization for Hyper Param Tuning"
   ]
  },
  {
   "cell_type": "code",
   "execution_count": 46,
   "id": "1a1e415f",
   "metadata": {},
   "outputs": [],
   "source": [
    "from skopt import BayesSearchCV\n"
   ]
  },
  {
   "cell_type": "code",
   "execution_count": 47,
   "id": "685b1e12",
   "metadata": {},
   "outputs": [],
   "source": [
    "# Define the parameter search space for Bayesian Optimization\n",
    "param_space_bayes = {\n",
    "    \"regression__alpha\": np.logspace(-3, 3, 100),  # Randomly sample from a logarithmic scale.\n",
    "    \"scaler__with_mean\": [True],  # always center the data.\n",
    "    \"scaler__with_std\": [True],   # always scale the data, i,e both combine standardize the data.\n",
    "    \"regression__fit_intercept\": [True, False],\n",
    "    \n",
    "}"
   ]
  },
  {
   "cell_type": "code",
   "execution_count": 48,
   "id": "cfceb094",
   "metadata": {},
   "outputs": [],
   "source": [
    "# Initialize BayesSearchCV\n",
    "bayes_search = BayesSearchCV(model, param_space_bayes, n_iter=25, cv=5, scoring=\"r2\", verbose=1)\n"
   ]
  },
  {
   "cell_type": "code",
   "execution_count": 49,
   "id": "4e98e02b",
   "metadata": {},
   "outputs": [
    {
     "name": "stdout",
     "output_type": "stream",
     "text": [
      "Fitting 5 folds for each of 1 candidates, totalling 5 fits\n",
      "Fitting 5 folds for each of 1 candidates, totalling 5 fits\n",
      "Fitting 5 folds for each of 1 candidates, totalling 5 fits\n",
      "Fitting 5 folds for each of 1 candidates, totalling 5 fits\n",
      "Fitting 5 folds for each of 1 candidates, totalling 5 fits\n",
      "Fitting 5 folds for each of 1 candidates, totalling 5 fits\n",
      "Fitting 5 folds for each of 1 candidates, totalling 5 fits\n",
      "Fitting 5 folds for each of 1 candidates, totalling 5 fits\n",
      "Fitting 5 folds for each of 1 candidates, totalling 5 fits\n",
      "Fitting 5 folds for each of 1 candidates, totalling 5 fits\n"
     ]
    },
    {
     "name": "stderr",
     "output_type": "stream",
     "text": [
      "C:\\Users\\acreddy\\anaconda3\\lib\\site-packages\\skopt\\optimizer\\optimizer.py:449: UserWarning: The objective has been evaluated at this point before.\n",
      "  warnings.warn(\"The objective has been evaluated \"\n"
     ]
    },
    {
     "name": "stdout",
     "output_type": "stream",
     "text": [
      "Fitting 5 folds for each of 1 candidates, totalling 5 fits\n",
      "Fitting 5 folds for each of 1 candidates, totalling 5 fits\n",
      "Fitting 5 folds for each of 1 candidates, totalling 5 fits\n",
      "Fitting 5 folds for each of 1 candidates, totalling 5 fits\n",
      "Fitting 5 folds for each of 1 candidates, totalling 5 fits\n",
      "Fitting 5 folds for each of 1 candidates, totalling 5 fits\n",
      "Fitting 5 folds for each of 1 candidates, totalling 5 fits\n",
      "Fitting 5 folds for each of 1 candidates, totalling 5 fits\n",
      "Fitting 5 folds for each of 1 candidates, totalling 5 fits\n",
      "Fitting 5 folds for each of 1 candidates, totalling 5 fits\n",
      "Fitting 5 folds for each of 1 candidates, totalling 5 fits\n",
      "Fitting 5 folds for each of 1 candidates, totalling 5 fits\n",
      "Fitting 5 folds for each of 1 candidates, totalling 5 fits\n",
      "Fitting 5 folds for each of 1 candidates, totalling 5 fits\n",
      "Fitting 5 folds for each of 1 candidates, totalling 5 fits\n"
     ]
    },
    {
     "data": {
      "text/plain": [
       "BayesSearchCV(cv=5,\n",
       "              estimator=Pipeline(steps=[('scaler', StandardScaler()),\n",
       "                                        ('regression', Ridge())]),\n",
       "              n_iter=25, scoring='r2',\n",
       "              search_spaces={'regression__alpha': array([1.00000000e-03, 1.14975700e-03, 1.32194115e-03, 1.51991108e-03,\n",
       "       1.74752840e-03, 2.00923300e-03, 2.31012970e-03, 2.65608778e-03,\n",
       "       3.05385551e-03, 3.51119173e-03, 4.03701726e-03, 4.64158883e-03,\n",
       "       5.33669...\n",
       "       7.05480231e+01, 8.11130831e+01, 9.32603347e+01, 1.07226722e+02,\n",
       "       1.23284674e+02, 1.41747416e+02, 1.62975083e+02, 1.87381742e+02,\n",
       "       2.15443469e+02, 2.47707636e+02, 2.84803587e+02, 3.27454916e+02,\n",
       "       3.76493581e+02, 4.32876128e+02, 4.97702356e+02, 5.72236766e+02,\n",
       "       6.57933225e+02, 7.56463328e+02, 8.69749003e+02, 1.00000000e+03]),\n",
       "                             'regression__fit_intercept': [True, False],\n",
       "                             'scaler__with_mean': [True],\n",
       "                             'scaler__with_std': [True]},\n",
       "              verbose=1)"
      ]
     },
     "execution_count": 49,
     "metadata": {},
     "output_type": "execute_result"
    }
   ],
   "source": [
    "# Fit the bayes model for train data\n",
    "bayes_search.fit(X_train, y_train)"
   ]
  },
  {
   "cell_type": "code",
   "execution_count": 50,
   "id": "a3a1d26e",
   "metadata": {},
   "outputs": [
    {
     "name": "stdout",
     "output_type": "stream",
     "text": [
      "Best Parameters:  OrderedDict([('regression__alpha', 40.37017258596558), ('regression__fit_intercept', True), ('scaler__with_mean', True), ('scaler__with_std', True)])\n",
      "Best R-squared Score:  0.7154874558608962\n"
     ]
    }
   ],
   "source": [
    "# Print the best parameters and corresponding R-squared score\n",
    "print(\"Best Parameters: \", bayes_search.best_params_)\n",
    "print(\"Best R-squared Score: \", bayes_search.best_score_)"
   ]
  },
  {
   "cell_type": "code",
   "execution_count": 51,
   "id": "3881b100",
   "metadata": {},
   "outputs": [],
   "source": [
    "# Evaluate on the test set\n",
    "best_model = bayes_search.best_estimator_\n",
    "y_pred = best_model.predict(X_test)"
   ]
  },
  {
   "cell_type": "code",
   "execution_count": 52,
   "id": "c34c42b0",
   "metadata": {},
   "outputs": [],
   "source": [
    "r2_bayes = r2_score(y_test, y_pred)"
   ]
  },
  {
   "cell_type": "code",
   "execution_count": 53,
   "id": "8b342371",
   "metadata": {},
   "outputs": [
    {
     "data": {
      "text/plain": [
       "0.7470632755710174"
      ]
     },
     "execution_count": 53,
     "metadata": {},
     "output_type": "execute_result"
    }
   ],
   "source": [
    "r2_bayes"
   ]
  },
  {
   "cell_type": "code",
   "execution_count": null,
   "id": "48ec895e",
   "metadata": {},
   "outputs": [],
   "source": []
  }
 ],
 "metadata": {
  "kernelspec": {
   "display_name": "Python 3 (ipykernel)",
   "language": "python",
   "name": "python3"
  },
  "language_info": {
   "codemirror_mode": {
    "name": "ipython",
    "version": 3
   },
   "file_extension": ".py",
   "mimetype": "text/x-python",
   "name": "python",
   "nbconvert_exporter": "python",
   "pygments_lexer": "ipython3",
   "version": "3.9.15"
  }
 },
 "nbformat": 4,
 "nbformat_minor": 5
}
